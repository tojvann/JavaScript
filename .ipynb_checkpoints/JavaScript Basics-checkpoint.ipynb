{
 "cells": [
  {
   "cell_type": "markdown",
   "metadata": {},
   "source": [
    "For programming language popularity as per github visit [GITHUT](https://githut.info/)"
   ]
  },
  {
   "cell_type": "markdown",
   "metadata": {},
   "source": [
    "# JavaScript Basics"
   ]
  },
  {
   "cell_type": "markdown",
   "metadata": {},
   "source": [
    "### A few facts about JavaScript"
   ]
  },
  {
   "cell_type": "markdown",
   "metadata": {},
   "source": [
    "- It was created by Brendan Eich in the year 1995 in 10 days\n",
    "- JavaScript is an implementation of ECMAScript, a standard maintained by the European Computer Manufacturers Association).\n",
    "- JavaScript is primarily a client-side language. A webpage can contain embedded JavaScript, which executes when a user visits the page. The language was created to allow web developers to embed executable code on their webpages, so that they could make their webpages interactive, or perform simple tasks.\n",
    "- JavaScript’s syntax is heavily inspired by C++ and Java. However, the inner workings of JavaScript is closer to a dynamically-typed, interpreted language such as Python or Ruby.\n",
    "- JavaScript is an interpreted language, not a compiled language. A program such as C++ or Java needs to be compiled before it is run. The source code is passed through a program called a compiler, which translates it into bytecode that the machine understands and can execute. In contrast, JavaScript has no compilation step. Instead, an interpreter in the browser reads over the JavaScript code, interprets each line, and runs it. More modern browsers use a technology known as Just-In-Time (JIT) compilation, which compiles JavaScript to executable bytecode just as it is about to run.\n",
    "- Despite all its faults, JavaScript is a very useful language. JavaScript runs in every web browser, out of the box. A JavaScript application runs on every device,this allows you to write cross-platform apps in a really easy way. JavaScript’s role has also expanded significantly. Platforms such as Node.js allow developers to run JavaScript server-side. It is now possible to create entire web applications in which both client-side and server-side logic is written in JavaScript."
   ]
  },
  {
   "cell_type": "markdown",
   "metadata": {},
   "source": [
    "## Setup"
   ]
  },
  {
   "cell_type": "markdown",
   "metadata": {},
   "source": [
    "- Ctrl + Shift + j = Open the console\n",
    "- Ctrl + Shift + i = Open the most recent tab you were on in the dev tool"
   ]
  },
  {
   "cell_type": "markdown",
   "metadata": {},
   "source": [
    "# Variables"
   ]
  },
  {
   "cell_type": "markdown",
   "metadata": {},
   "source": [
    "The purpose of a variable in computer programming is to hold or reference data."
   ]
  },
  {
   "cell_type": "markdown",
   "metadata": {},
   "source": [
    "## *var* vs *let* vs *const*"
   ]
  },
  {
   "cell_type": "code",
   "execution_count": 2,
   "metadata": {},
   "outputs": [],
   "source": [
    "var x = 180"
   ]
  },
  {
   "cell_type": "code",
   "execution_count": 3,
   "metadata": {},
   "outputs": [
    {
     "data": {
      "text/plain": [
       "180"
      ]
     },
     "execution_count": 3,
     "metadata": {},
     "output_type": "execute_result"
    }
   ],
   "source": [
    "x"
   ]
  },
  {
   "cell_type": "markdown",
   "metadata": {},
   "source": [
    "Until ES2015 __var__ was the only option to defining variable. Post ES2015 two new keywords __let__ and __const__ were \n",
    "included in javascript.\n",
    "\n",
    "var has a function scope (also known as local scope) and let / const have more limited block scope, which is considered\n",
    "a better practice in computer programming since it reduces the chance of accidentaly changing a variable's value.\n",
    "\n",
    ">_a better practice in programming is considered is to limit the scope_\n"
   ]
  },
  {
   "cell_type": "code",
   "execution_count": 10,
   "metadata": {},
   "outputs": [
    {
     "data": {
      "text/plain": [
       "99"
      ]
     },
     "execution_count": 10,
     "metadata": {},
     "output_type": "execute_result"
    }
   ],
   "source": [
    "{\n",
    "let y = 200;\n",
    "y = 99;\n",
    "}\n",
    "// we can reassign to a variable declared using let"
   ]
  },
  {
   "cell_type": "code",
   "execution_count": 12,
   "metadata": {},
   "outputs": [
    {
     "ename": "SyntaxError",
     "evalue": "Missing initializer in const declaration",
     "output_type": "error",
     "traceback": [
      "evalmachine.<anonymous>:1",
      "const p;",
      "      ^",
      "",
      "SyntaxError: Missing initializer in const declaration",
      "    at new Script (vm.js:84:7)",
      "    at createScript (vm.js:258:10)",
      "    at Object.runInThisContext (vm.js:306:10)",
      "    at run ([eval]:1054:15)",
      "    at onRunRequest ([eval]:888:18)",
      "    at onMessage ([eval]:848:13)",
      "    at process.emit (events.js:210:5)",
      "    at emit (internal/child_process.js:876:12)",
      "    at processTicksAndRejections (internal/process/task_queues.js:81:21)"
     ]
    }
   ],
   "source": [
    "const p;\n",
    "\n",
    "// a const must be initialized at the time it is being declared."
   ]
  },
  {
   "cell_type": "code",
   "execution_count": 5,
   "metadata": {},
   "outputs": [
    {
     "ename": "TypeError",
     "evalue": "Assignment to constant variable.",
     "output_type": "error",
     "traceback": [
      "evalmachine.<anonymous>:2",
      "z = 120;",
      "  ^",
      "",
      "TypeError: Assignment to constant variable.",
      "    at evalmachine.<anonymous>:2:3",
      "    at Script.runInThisContext (vm.js:116:20)",
      "    at Object.runInThisContext (vm.js:306:38)",
      "    at run ([eval]:1054:15)",
      "    at onRunRequest ([eval]:888:18)",
      "    at onMessage ([eval]:848:13)",
      "    at process.emit (events.js:210:5)",
      "    at emit (internal/child_process.js:876:12)",
      "    at processTicksAndRejections (internal/process/task_queues.js:81:21)"
     ]
    }
   ],
   "source": [
    "const z = 33;\n",
    "z = 120;\n",
    "\n",
    "// a const cannot be reassigned."
   ]
  },
  {
   "cell_type": "markdown",
   "metadata": {},
   "source": [
    "Objects are reference types because, if we assign an object to a variable, that variable does not actually hold \n",
    "the object,rather it holds a \"reference\" that points to the object in memory. ___As such, when you assign an object\n",
    "to a const,you can make changes to the object itself, you just can't re-assign to the const:___"
   ]
  },
  {
   "cell_type": "code",
   "execution_count": 14,
   "metadata": {},
   "outputs": [
    {
     "ename": "SyntaxError",
     "evalue": "Identifier 'person' has already been declared",
     "output_type": "error",
     "traceback": [
      "evalmachine.<anonymous>:1",
      "const person = {name : 'tojvann'}",
      "^",
      "",
      "SyntaxError: Identifier 'person' has already been declared",
      "    at evalmachine.<anonymous>:1:1",
      "    at Script.runInThisContext (vm.js:116:20)",
      "    at Object.runInThisContext (vm.js:306:38)",
      "    at run ([eval]:1054:15)",
      "    at onRunRequest ([eval]:888:18)",
      "    at onMessage ([eval]:848:13)",
      "    at process.emit (events.js:210:5)",
      "    at emit (internal/child_process.js:876:12)",
      "    at processTicksAndRejections (internal/process/task_queues.js:81:21)"
     ]
    }
   ],
   "source": [
    "const person = {name : 'tojvann'}\n",
    "person.age = 13;\n",
    "person = {name : vannjot}"
   ]
  },
  {
   "cell_type": "markdown",
   "metadata": {},
   "source": [
    "### An Example on scope\n",
    "\n",
    "_highlights the difference between let and var_"
   ]
  },
  {
   "cell_type": "code",
   "execution_count": 16,
   "metadata": {},
   "outputs": [
    {
     "ename": "ReferenceError",
     "evalue": "c is not defined",
     "output_type": "error",
     "traceback": [
      "evalmachine.<anonymous>:4",
      "c;",
      "^",
      "",
      "ReferenceError: c is not defined",
      "    at evalmachine.<anonymous>:4:1",
      "    at Script.runInThisContext (vm.js:116:20)",
      "    at Object.runInThisContext (vm.js:306:38)",
      "    at run ([eval]:1054:15)",
      "    at onRunRequest ([eval]:888:18)",
      "    at onMessage ([eval]:848:13)",
      "    at process.emit (events.js:210:5)",
      "    at emit (internal/child_process.js:876:12)",
      "    at processTicksAndRejections (internal/process/task_queues.js:81:21)"
     ]
    }
   ],
   "source": [
    "{\n",
    "    let c = 13;\n",
    "}\n",
    "c;\n"
   ]
  },
  {
   "cell_type": "code",
   "execution_count": 17,
   "metadata": {},
   "outputs": [
    {
     "data": {
      "text/plain": [
       "123"
      ]
     },
     "execution_count": 17,
     "metadata": {},
     "output_type": "execute_result"
    }
   ],
   "source": [
    "{\n",
    "    var d = 123;\n",
    "}\n",
    "d;"
   ]
  },
  {
   "cell_type": "markdown",
   "metadata": {},
   "source": [
    "Multiple variables can be declared and assigne to (i.e defined) in a single statement."
   ]
  },
  {
   "cell_type": "code",
   "execution_count": 18,
   "metadata": {},
   "outputs": [],
   "source": [
    "let name = 'qwert', age , town = 'rooster'"
   ]
  },
  {
   "cell_type": "markdown",
   "metadata": {},
   "source": [
    "### Identifier Naming Rules\n",
    "In JavaScript, when naming variables, the convention is to name the identifiers using ___lowerCamelCase___,\n",
    "`e.g., numActivePlayers.\n",
    "\n",
    "Identifiers in JS:\n",
    "\n",
    "- Are case-sensitive!\n",
    "- Cannot begin with a number\n",
    "- Can contain letters, digits, underscores, and dollar signs\n",
    "  - underscores are used for naming if we want to declare a private variable not to be used outside the scope of        the function.\n",
    "  - dollar sign is used extensively in jquery for naming the variables. \n",
    "\n",
    ">## ___\"Readability is very important in programming\"___"
   ]
  },
  {
   "cell_type": "markdown",
   "metadata": {},
   "source": [
    "# Exploring JavaScript's Datatypes"
   ]
  },
  {
   "cell_type": "markdown",
   "metadata": {},
   "source": [
    "###  _Dynamic vs Static typed Languages:_"
   ]
  },
  {
   "cell_type": "markdown",
   "metadata": {},
   "source": [
    "In a statically typed language we have to ***explicitly*** define the ***type*** of the variable. These type markers are evaluated at ***compile time***.\n",
    "\n",
    "Ex: Java, C, C++ etc\n",
    "\n",
    "However Javascript is a dynamically typed language.Note that in JavaScript's case, when we say \"type of a variable\", this is a bit misleading because we are actually talking about the type of the value that the variable points to. The variable itself can point at, and be re-pointed at, any value. The values themselves are what are tagged as being a Number or a String, etc."
   ]
  },
  {
   "cell_type": "markdown",
   "metadata": {},
   "source": [
    "### Strong vs Weak"
   ]
  },
  {
   "cell_type": "markdown",
   "metadata": {},
   "source": [
    "Generally, a strongly typed language has **stricter** typing rules at compile time, which implies that errors and exceptions are more likely to happen during compilation.\n",
    "\n",
    "   > Dynamically typed languages (where type checking happens at run time) can also be strongly typed.\n",
    "\n",
    "Most of these rules affect variable assignment, return values and function calling.\n",
    "\n",
    "A weakly typed language has **looser** typing rules and may produce **unpredictable results** or may perform ***implicit type conversion at runtime***.\n",
    "\n",
    "[variation across programming languages (wiki)](https://en.wikipedia.org/wiki/Strong_and_weak_typing#Variation_across_programming_languages)"
   ]
  },
  {
   "cell_type": "markdown",
   "metadata": {},
   "source": [
    "A strongly typed language will require you to do something sensible with your values.\n",
    "\n",
    "This won't fly in Python:\n",
    "```\n",
    ">>> x = 'a'\n",
    ">>> x + 3\n",
    "TypeError: cannot concatenate 'str' and 'int' objects\n",
    "\n",
    "```\n",
    "But in the same situation, JavaScript will happily try to do something it considers reasonable:\n",
    "```\n",
    "> x='a'\n",
    "\"a\"\n",
    "\n",
    "> x+3\n",
    "\"a3\"\n",
    "\n",
    "```\n",
    "This tolerant stance when evaluating mixed types makes JavaScript a ***weakly typed*** language."
   ]
  },
  {
   "cell_type": "code",
   "execution_count": 2,
   "metadata": {},
   "outputs": [
    {
     "data": {
      "text/plain": [
       "'tojvann'"
      ]
     },
     "execution_count": 2,
     "metadata": {},
     "output_type": "execute_result"
    }
   ],
   "source": [
    "var data = 123;\n",
    "data = 'tojvann';\n",
    "data;"
   ]
  },
  {
   "cell_type": "markdown",
   "metadata": {},
   "source": [
    "> ### Some prorammers believe that if it is a Strictly typed language or Statically typed language it prevents errors from happening. However it requires a little extra effort to code using such languages."
   ]
  },
  {
   "cell_type": "markdown",
   "metadata": {},
   "source": [
    "***There is a newer language called TypeScript you might hear about - this language is a superset of JS and adds strong typing to JS. Many developers agree that strong typing makes code less error prone and is worth the extra effort to code in.***"
   ]
  },
  {
   "cell_type": "markdown",
   "metadata": {},
   "source": [
    "## JavaScript's Datatypes\n",
    "- ***six*** primitive datatypes which represent a ***single*** value.\n",
    "  - Boolean\n",
    "  - Null\n",
    "  - Undefined\n",
    "  - Number\n",
    "  - String\n",
    "  - Symbol\n",
    "- an object (reference) type that can contain any number of primitive values and/or other objects.\n",
    "\n",
    "Note that an object can be one of JavaScript's built-in object sub-types such as:\n",
    "\n",
    "- Array\n",
    "- Function (yes, functions are objects in JavaScript!)\n",
    "- RegExp\n",
    "- Date\n",
    "- Error\n",
    "- BigInt"
   ]
  },
  {
   "cell_type": "code",
   "execution_count": 3,
   "metadata": {},
   "outputs": [
    {
     "data": {
      "text/plain": [
       "13"
      ]
     },
     "execution_count": 3,
     "metadata": {},
     "output_type": "execute_result"
    }
   ],
   "source": [
    "//Proof that function is an object in javascript\n",
    "\n",
    "function f() {\n",
    "    \n",
    "}\n",
    "\n",
    "f.tojvann = 13;\n",
    "f.tojvann;\n"
   ]
  },
  {
   "cell_type": "markdown",
   "metadata": {},
   "source": [
    "we created a property on function hence proved that function is an object in JavaScript.\n",
    "> ***if it is not one of the primitive datatype then it is an object in JavaScript.***\n"
   ]
  },
  {
   "cell_type": "markdown",
   "metadata": {},
   "source": [
    "### String"
   ]
  },
  {
   "cell_type": "markdown",
   "metadata": {},
   "source": [
    "A string represents textual data with zero or more characters wrapped by single or double quotation marks such as \"John\" or 'Jane'. A pair of quotes with nothing between them is still a string - ___an empty string___."
   ]
  },
  {
   "cell_type": "markdown",
   "metadata": {},
   "source": [
    "```\n",
    "> 'Hello World'\n",
    "< \"Hello World\"\n",
    "> typeof \"I'm a string\"\n",
    "< \"string\"\n",
    "```"
   ]
  },
  {
   "cell_type": "markdown",
   "metadata": {},
   "source": [
    "__typeof__ operator always returns a string describing the data type.\n",
    "> ES2015 Note: In addition to using single and double quotes to delimit a string, ES2015 adds a third way by using the back-tick character to create what's called a template literal. "
   ]
  },
  {
   "cell_type": "markdown",
   "metadata": {},
   "source": [
    "### Number\n",
    "\n",
    "A number represents a ___numeric value___.\n",
    "\n",
    "Unlike many other programming languages, there is no distinction between integer (15, 3, etc.) and floating-point/decimal types (17.24, 3.1416, etc.).\n",
    "\n",
    "> __Internally, JS represents all numbers as floating-point values__."
   ]
  },
  {
   "cell_type": "code",
   "execution_count": 4,
   "metadata": {},
   "outputs": [
    {
     "name": "stdout",
     "output_type": "stream",
     "text": [
      "123\n"
     ]
    },
    {
     "data": {
      "text/plain": [
       "123.5"
      ]
     },
     "execution_count": 4,
     "metadata": {},
     "output_type": "execute_result"
    }
   ],
   "source": [
    "a = 123.5;\n",
    "console.log(parseInt(a));\n",
    "parseFloat(a);"
   ]
  },
  {
   "cell_type": "markdown",
   "metadata": {},
   "source": [
    "### Boolean\n",
    "Whereas strings and numbers can have a virtually unlimited number of different values, the boolean data type only has two possible values: ___true___ and ____false____."
   ]
  },
  {
   "cell_type": "markdown",
   "metadata": {},
   "source": [
    "### Null \n",
    "\n",
    "The null datatype has only one value: ____null___.\n",
    "\n",
    "we often assign null value to a variable to represent the fact that it has no ___\"real\"___ value."
   ]
  },
  {
   "cell_type": "code",
   "execution_count": 6,
   "metadata": {},
   "outputs": [
    {
     "data": {
      "text/plain": [
       "'object'"
      ]
     },
     "execution_count": 6,
     "metadata": {},
     "output_type": "execute_result"
    }
   ],
   "source": [
    "typeof null;"
   ]
  },
  {
   "cell_type": "markdown",
   "metadata": {},
   "source": [
    "This is a ___mistake___ in the language, this is where Brendan screwed. Don't think of null as an object."
   ]
  },
  {
   "cell_type": "markdown",
   "metadata": {},
   "source": [
    "> ## Sometimes instead of googling out, just try yourself for a solution. Get used to Experimenting."
   ]
  },
  {
   "cell_type": "code",
   "execution_count": 7,
   "metadata": {},
   "outputs": [
    {
     "data": {
      "text/plain": [
       "true"
      ]
     },
     "execution_count": 7,
     "metadata": {},
     "output_type": "execute_result"
    }
   ],
   "source": [
    "var n = null;\n",
    "n === null;"
   ]
  },
  {
   "cell_type": "markdown",
   "metadata": {},
   "source": [
    "### Undefined\n",
    "\n",
    "A variable that has not been assigned a value is of type undefined. For example:"
   ]
  },
  {
   "cell_type": "code",
   "execution_count": 11,
   "metadata": {},
   "outputs": [],
   "source": [
    "var tojvann;\n",
    "// tojvann currently holds undefined"
   ]
  },
  {
   "cell_type": "markdown",
   "metadata": {},
   "source": [
    "In addition, a function by default returns undefined if a value was not explicitly returned using the return keyword.\n",
    "\n",
    "We will see undefined a lot in the console when it evaluates a statement that does not return a value."
   ]
  },
  {
   "cell_type": "code",
   "execution_count": 14,
   "metadata": {},
   "outputs": [
    {
     "name": "stdout",
     "output_type": "stream",
     "text": [
      "undefined\n",
      "hello\n"
     ]
    }
   ],
   "source": [
    "console.log(typeof undefined)\n",
    "console.log('hello')"
   ]
  },
  {
   "cell_type": "markdown",
   "metadata": {},
   "source": [
    "### Symbol\n",
    "The symbol data type was added with ES2015 and is primarily used to create unique and less visible properties on objects.\n",
    "\n",
    "Their use is rare in general JavaScript programming."
   ]
  },
  {
   "cell_type": "markdown",
   "metadata": {},
   "source": [
    "### Object\n",
    "\n",
    "The previos six data types are considered primitive datatypes because they hold a single value.\n",
    "\n",
    "Most programming languages also have complex/reference data types designed to hold more complex data structures.\n",
    "\n",
    "JavaScript only has one ___reference___ type - the object.\n",
    "\n",
    "Objects are collections of ___zero___ or ___more___ key:value pairs known as properties."
   ]
  },
  {
   "cell_type": "code",
   "execution_count": 16,
   "metadata": {},
   "outputs": [
    {
     "data": {
      "text/plain": [
       "'object'"
      ]
     },
     "execution_count": 16,
     "metadata": {},
     "output_type": "execute_result"
    }
   ],
   "source": [
    "typeof {shoes: 'running', brand: 'nike'}"
   ]
  },
  {
   "cell_type": "code",
   "execution_count": 17,
   "metadata": {},
   "outputs": [
    {
     "data": {
      "text/plain": [
       "'object'"
      ]
     },
     "execution_count": 17,
     "metadata": {},
     "output_type": "execute_result"
    }
   ],
   "source": [
    "typeof {};"
   ]
  },
  {
   "cell_type": "code",
   "execution_count": 19,
   "metadata": {},
   "outputs": [
    {
     "data": {
      "text/plain": [
       "'object'"
      ]
     },
     "execution_count": 19,
     "metadata": {},
     "output_type": "execute_result"
    }
   ],
   "source": [
    "typeof [];\n",
    "\n",
    "// arrays are sub-type/special type of objects."
   ]
  },
  {
   "cell_type": "code",
   "execution_count": 20,
   "metadata": {},
   "outputs": [
    {
     "data": {
      "text/plain": [
       "'object'"
      ]
     },
     "execution_count": 20,
     "metadata": {},
     "output_type": "execute_result"
    }
   ],
   "source": [
    "typeof /./\n",
    "\n",
    "//regular expressions"
   ]
  },
  {
   "cell_type": "code",
   "execution_count": 22,
   "metadata": {},
   "outputs": [
    {
     "data": {
      "text/plain": [
       "'function'"
      ]
     },
     "execution_count": 22,
     "metadata": {},
     "output_type": "execute_result"
    }
   ],
   "source": [
    "typeof function() {};\n",
    "\n",
    "// although it returns function but technically function is a subtype of object."
   ]
  }
 ],
 "metadata": {
  "kernelspec": {
   "display_name": "Javascript (Node.js)",
   "language": "javascript",
   "name": "javascript"
  },
  "language_info": {
   "file_extension": ".js",
   "mimetype": "application/javascript",
   "name": "javascript",
   "version": "12.13.1"
  }
 },
 "nbformat": 4,
 "nbformat_minor": 2
}
